{
 "cells": [
  {
   "cell_type": "code",
   "execution_count": 1,
   "id": "8b6e984f",
   "metadata": {},
   "outputs": [],
   "source": [
    "import pandas as pd\n",
    "import numpy as np\n",
    "import time\n",
    "import re\n",
    "import seaborn as sns\n",
    "from matplotlib import pyplot as plt\n",
    "import tensorflow as tf\n",
    "\n",
    "\n",
    "from sklearn.model_selection import train_test_split\n",
    "from sklearn.model_selection import KFold\n",
    "from sklearn.ensemble import RandomForestClassifier\n",
    "from sklearn.preprocessing import MultiLabelBinarizer\n",
    "from sklearn.preprocessing import LabelEncoder\n",
    "from sklearn.decomposition import PCA\n",
    "\n",
    "from nltk.corpus import stopwords\n",
    "import nltk\n",
    "\n",
    "\n",
    "#nltk.download('wordnet')\n",
    "#nltk.download('omw-1.4')\n",
    "\n",
    "#import spacy\n",
    "#from nltk.corpus import stopwords"
   ]
  },
  {
   "cell_type": "code",
   "execution_count": 2,
   "id": "87205182",
   "metadata": {},
   "outputs": [
    {
     "data": {
      "text/plain": [
       "'@MeNyrbie @Phil_Gahan @Chrisitv https://t.co/iFz9FAn2Pa and https://t.co/xX6ghGFzCC and https://t.co/I2NlzdxNo8'"
      ]
     },
     "execution_count": 2,
     "metadata": {},
     "output_type": "execute_result"
    }
   ],
   "source": [
    "\n",
    "data=pd.read_csv(\"C:/Users/ranus/OneDrive/Bureau/DataScience/ClassificationMessageTwitter/ClassificationMessageTwitter/Corona_NLP_train.csv\",parse_dates=True ,encoding='latin-1')\n",
    "data\n",
    "\n",
    "data_test=pd.read_csv(\"C:/Users/ranus/OneDrive/Bureau/DataScience/ClassificationMessageTwitter/ClassificationMessageTwitter/Corona_NLP_test.csv\",parse_dates=True ,encoding='latin-1')\n",
    "data_test.shape\n",
    "data[\"OriginalTweet\"][0]"
   ]
  },
  {
   "cell_type": "markdown",
   "id": "af986f23",
   "metadata": {},
   "source": [
    "#  Data analysis"
   ]
  },
  {
   "cell_type": "code",
   "execution_count": 3,
   "id": "a3d19852",
   "metadata": {},
   "outputs": [
    {
     "name": "stdout",
     "output_type": "stream",
     "text": [
      "<class 'pandas.core.frame.DataFrame'>\n",
      "RangeIndex: 41157 entries, 0 to 41156\n",
      "Data columns (total 6 columns):\n",
      " #   Column         Non-Null Count  Dtype \n",
      "---  ------         --------------  ----- \n",
      " 0   UserName       41157 non-null  int64 \n",
      " 1   ScreenName     41157 non-null  int64 \n",
      " 2   Location       32567 non-null  object\n",
      " 3   TweetAt        41157 non-null  object\n",
      " 4   OriginalTweet  41157 non-null  object\n",
      " 5   Sentiment      41157 non-null  object\n",
      "dtypes: int64(2), object(4)\n",
      "memory usage: 1.9+ MB\n"
     ]
    }
   ],
   "source": [
    "data.info()"
   ]
  },
  {
   "cell_type": "markdown",
   "id": "6a9b07a8",
   "metadata": {},
   "source": [
    "Les variables sont de types int et et object.\n",
    "On remarque également des données manquantes dans la colonne Location."
   ]
  },
  {
   "cell_type": "code",
   "execution_count": 4,
   "id": "3bfdc8f9",
   "metadata": {
    "scrolled": true
   },
   "outputs": [
    {
     "name": "stdout",
     "output_type": "stream",
     "text": [
      "3799     1\n",
      "31291    1\n",
      "31233    1\n",
      "31234    1\n",
      "31235    1\n",
      "        ..\n",
      "17519    1\n",
      "17520    1\n",
      "17521    1\n",
      "17522    1\n",
      "44955    1\n",
      "Name: UserName, Length: 41157, dtype: int64\n",
      "48751    1\n",
      "76243    1\n",
      "76185    1\n",
      "76186    1\n",
      "76187    1\n",
      "        ..\n",
      "62471    1\n",
      "62472    1\n",
      "62473    1\n",
      "62474    1\n",
      "89907    1\n",
      "Name: ScreenName, Length: 41157, dtype: int64\n"
     ]
    }
   ],
   "source": [
    "is_int=list(data.select_dtypes(\"int64\").columns)\n",
    "for col in is_int:\n",
    "    print(data[col].value_counts())"
   ]
  },
  {
   "cell_type": "markdown",
   "id": "0686173a",
   "metadata": {},
   "source": [
    "On remarque ScreenName et UserName sont des clefs de la dataframe. On peut donc en drop une et utiliser l'autre comme index"
   ]
  },
  {
   "cell_type": "code",
   "execution_count": 5,
   "id": "a72ba46a",
   "metadata": {
    "scrolled": true
   },
   "outputs": [
    {
     "data": {
      "text/html": [
       "<div>\n",
       "<style scoped>\n",
       "    .dataframe tbody tr th:only-of-type {\n",
       "        vertical-align: middle;\n",
       "    }\n",
       "\n",
       "    .dataframe tbody tr th {\n",
       "        vertical-align: top;\n",
       "    }\n",
       "\n",
       "    .dataframe thead th {\n",
       "        text-align: right;\n",
       "    }\n",
       "</style>\n",
       "<table border=\"1\" class=\"dataframe\">\n",
       "  <thead>\n",
       "    <tr style=\"text-align: right;\">\n",
       "      <th></th>\n",
       "      <th>ScreenName</th>\n",
       "      <th>Location</th>\n",
       "      <th>TweetAt</th>\n",
       "      <th>OriginalTweet</th>\n",
       "      <th>Sentiment</th>\n",
       "    </tr>\n",
       "    <tr>\n",
       "      <th>UserName</th>\n",
       "      <th></th>\n",
       "      <th></th>\n",
       "      <th></th>\n",
       "      <th></th>\n",
       "      <th></th>\n",
       "    </tr>\n",
       "  </thead>\n",
       "  <tbody>\n",
       "    <tr>\n",
       "      <th>3799</th>\n",
       "      <td>48751</td>\n",
       "      <td>London</td>\n",
       "      <td>16-03-2020</td>\n",
       "      <td>@MeNyrbie @Phil_Gahan @Chrisitv https://t.co/i...</td>\n",
       "      <td>Neutral</td>\n",
       "    </tr>\n",
       "    <tr>\n",
       "      <th>3800</th>\n",
       "      <td>48752</td>\n",
       "      <td>UK</td>\n",
       "      <td>16-03-2020</td>\n",
       "      <td>advice Talk to your neighbours family to excha...</td>\n",
       "      <td>Positive</td>\n",
       "    </tr>\n",
       "    <tr>\n",
       "      <th>3801</th>\n",
       "      <td>48753</td>\n",
       "      <td>Vagabonds</td>\n",
       "      <td>16-03-2020</td>\n",
       "      <td>Coronavirus Australia: Woolworths to give elde...</td>\n",
       "      <td>Positive</td>\n",
       "    </tr>\n",
       "    <tr>\n",
       "      <th>3802</th>\n",
       "      <td>48754</td>\n",
       "      <td>NaN</td>\n",
       "      <td>16-03-2020</td>\n",
       "      <td>My food stock is not the only one which is emp...</td>\n",
       "      <td>Positive</td>\n",
       "    </tr>\n",
       "    <tr>\n",
       "      <th>3803</th>\n",
       "      <td>48755</td>\n",
       "      <td>NaN</td>\n",
       "      <td>16-03-2020</td>\n",
       "      <td>Me, ready to go at supermarket during the #COV...</td>\n",
       "      <td>Extremely Negative</td>\n",
       "    </tr>\n",
       "    <tr>\n",
       "      <th>...</th>\n",
       "      <td>...</td>\n",
       "      <td>...</td>\n",
       "      <td>...</td>\n",
       "      <td>...</td>\n",
       "      <td>...</td>\n",
       "    </tr>\n",
       "    <tr>\n",
       "      <th>44951</th>\n",
       "      <td>89903</td>\n",
       "      <td>Wellington City, New Zealand</td>\n",
       "      <td>14-04-2020</td>\n",
       "      <td>Airline pilots offering to stock supermarket s...</td>\n",
       "      <td>Neutral</td>\n",
       "    </tr>\n",
       "    <tr>\n",
       "      <th>44952</th>\n",
       "      <td>89904</td>\n",
       "      <td>NaN</td>\n",
       "      <td>14-04-2020</td>\n",
       "      <td>Response to complaint not provided citing COVI...</td>\n",
       "      <td>Extremely Negative</td>\n",
       "    </tr>\n",
       "    <tr>\n",
       "      <th>44953</th>\n",
       "      <td>89905</td>\n",
       "      <td>NaN</td>\n",
       "      <td>14-04-2020</td>\n",
       "      <td>You know itÂs getting tough when @KameronWild...</td>\n",
       "      <td>Positive</td>\n",
       "    </tr>\n",
       "    <tr>\n",
       "      <th>44954</th>\n",
       "      <td>89906</td>\n",
       "      <td>NaN</td>\n",
       "      <td>14-04-2020</td>\n",
       "      <td>Is it wrong that the smell of hand sanitizer i...</td>\n",
       "      <td>Neutral</td>\n",
       "    </tr>\n",
       "    <tr>\n",
       "      <th>44955</th>\n",
       "      <td>89907</td>\n",
       "      <td>i love you so much || he/him</td>\n",
       "      <td>14-04-2020</td>\n",
       "      <td>@TartiiCat Well new/used Rift S are going for ...</td>\n",
       "      <td>Negative</td>\n",
       "    </tr>\n",
       "  </tbody>\n",
       "</table>\n",
       "<p>41157 rows × 5 columns</p>\n",
       "</div>"
      ],
      "text/plain": [
       "          ScreenName                      Location     TweetAt  \\\n",
       "UserName                                                         \n",
       "3799           48751                        London  16-03-2020   \n",
       "3800           48752                            UK  16-03-2020   \n",
       "3801           48753                     Vagabonds  16-03-2020   \n",
       "3802           48754                           NaN  16-03-2020   \n",
       "3803           48755                           NaN  16-03-2020   \n",
       "...              ...                           ...         ...   \n",
       "44951          89903  Wellington City, New Zealand  14-04-2020   \n",
       "44952          89904                           NaN  14-04-2020   \n",
       "44953          89905                           NaN  14-04-2020   \n",
       "44954          89906                           NaN  14-04-2020   \n",
       "44955          89907  i love you so much || he/him  14-04-2020   \n",
       "\n",
       "                                              OriginalTweet  \\\n",
       "UserName                                                      \n",
       "3799      @MeNyrbie @Phil_Gahan @Chrisitv https://t.co/i...   \n",
       "3800      advice Talk to your neighbours family to excha...   \n",
       "3801      Coronavirus Australia: Woolworths to give elde...   \n",
       "3802      My food stock is not the only one which is emp...   \n",
       "3803      Me, ready to go at supermarket during the #COV...   \n",
       "...                                                     ...   \n",
       "44951     Airline pilots offering to stock supermarket s...   \n",
       "44952     Response to complaint not provided citing COVI...   \n",
       "44953     You know itÂs getting tough when @KameronWild...   \n",
       "44954     Is it wrong that the smell of hand sanitizer i...   \n",
       "44955     @TartiiCat Well new/used Rift S are going for ...   \n",
       "\n",
       "                   Sentiment  \n",
       "UserName                      \n",
       "3799                 Neutral  \n",
       "3800                Positive  \n",
       "3801                Positive  \n",
       "3802                Positive  \n",
       "3803      Extremely Negative  \n",
       "...                      ...  \n",
       "44951                Neutral  \n",
       "44952     Extremely Negative  \n",
       "44953               Positive  \n",
       "44954                Neutral  \n",
       "44955               Negative  \n",
       "\n",
       "[41157 rows x 5 columns]"
      ]
     },
     "execution_count": 5,
     "metadata": {},
     "output_type": "execute_result"
    }
   ],
   "source": [
    "data=data.set_index(\"UserName\")\n",
    "#data=data.drop(\"ScreenName\",axis=1)\n",
    "data"
   ]
  },
  {
   "cell_type": "markdown",
   "id": "2475f4ea",
   "metadata": {},
   "source": [
    "# Etude des données manquantes"
   ]
  },
  {
   "cell_type": "code",
   "execution_count": 6,
   "id": "c3d3c318",
   "metadata": {
    "scrolled": true
   },
   "outputs": [
    {
     "data": {
      "text/html": [
       "<div>\n",
       "<style scoped>\n",
       "    .dataframe tbody tr th:only-of-type {\n",
       "        vertical-align: middle;\n",
       "    }\n",
       "\n",
       "    .dataframe tbody tr th {\n",
       "        vertical-align: top;\n",
       "    }\n",
       "\n",
       "    .dataframe thead th {\n",
       "        text-align: right;\n",
       "    }\n",
       "</style>\n",
       "<table border=\"1\" class=\"dataframe\">\n",
       "  <thead>\n",
       "    <tr style=\"text-align: right;\">\n",
       "      <th></th>\n",
       "      <th>ScreenName</th>\n",
       "      <th>Location</th>\n",
       "      <th>TweetAt</th>\n",
       "      <th>OriginalTweet</th>\n",
       "      <th>Sentiment</th>\n",
       "    </tr>\n",
       "    <tr>\n",
       "      <th>UserName</th>\n",
       "      <th></th>\n",
       "      <th></th>\n",
       "      <th></th>\n",
       "      <th></th>\n",
       "      <th></th>\n",
       "    </tr>\n",
       "  </thead>\n",
       "  <tbody>\n",
       "    <tr>\n",
       "      <th>3802</th>\n",
       "      <td>48754</td>\n",
       "      <td>NaN</td>\n",
       "      <td>16-03-2020</td>\n",
       "      <td>My food stock is not the only one which is emp...</td>\n",
       "      <td>Positive</td>\n",
       "    </tr>\n",
       "    <tr>\n",
       "      <th>3803</th>\n",
       "      <td>48755</td>\n",
       "      <td>NaN</td>\n",
       "      <td>16-03-2020</td>\n",
       "      <td>Me, ready to go at supermarket during the #COV...</td>\n",
       "      <td>Extremely Negative</td>\n",
       "    </tr>\n",
       "    <tr>\n",
       "      <th>3813</th>\n",
       "      <td>48765</td>\n",
       "      <td>NaN</td>\n",
       "      <td>16-03-2020</td>\n",
       "      <td>ADARA Releases COVID-19 Resource Center for Tr...</td>\n",
       "      <td>Positive</td>\n",
       "    </tr>\n",
       "    <tr>\n",
       "      <th>3821</th>\n",
       "      <td>48773</td>\n",
       "      <td>NaN</td>\n",
       "      <td>16-03-2020</td>\n",
       "      <td>We have AMAZING CHEAP DEALS! FOR THE #COVID201...</td>\n",
       "      <td>Extremely Positive</td>\n",
       "    </tr>\n",
       "    <tr>\n",
       "      <th>3822</th>\n",
       "      <td>48774</td>\n",
       "      <td>NaN</td>\n",
       "      <td>16-03-2020</td>\n",
       "      <td>We have AMAZING CHEAP DEALS! FOR THE #COVID201...</td>\n",
       "      <td>Extremely Positive</td>\n",
       "    </tr>\n",
       "    <tr>\n",
       "      <th>...</th>\n",
       "      <td>...</td>\n",
       "      <td>...</td>\n",
       "      <td>...</td>\n",
       "      <td>...</td>\n",
       "      <td>...</td>\n",
       "    </tr>\n",
       "    <tr>\n",
       "      <th>44947</th>\n",
       "      <td>89899</td>\n",
       "      <td>NaN</td>\n",
       "      <td>14-04-2020</td>\n",
       "      <td>UV light Sterilizer Sanitizer for your mask an...</td>\n",
       "      <td>Extremely Positive</td>\n",
       "    </tr>\n",
       "    <tr>\n",
       "      <th>44950</th>\n",
       "      <td>89902</td>\n",
       "      <td>NaN</td>\n",
       "      <td>14-04-2020</td>\n",
       "      <td>@MrSilverScott you are definitely my man. I fe...</td>\n",
       "      <td>Extremely Positive</td>\n",
       "    </tr>\n",
       "    <tr>\n",
       "      <th>44952</th>\n",
       "      <td>89904</td>\n",
       "      <td>NaN</td>\n",
       "      <td>14-04-2020</td>\n",
       "      <td>Response to complaint not provided citing COVI...</td>\n",
       "      <td>Extremely Negative</td>\n",
       "    </tr>\n",
       "    <tr>\n",
       "      <th>44953</th>\n",
       "      <td>89905</td>\n",
       "      <td>NaN</td>\n",
       "      <td>14-04-2020</td>\n",
       "      <td>You know itÂs getting tough when @KameronWild...</td>\n",
       "      <td>Positive</td>\n",
       "    </tr>\n",
       "    <tr>\n",
       "      <th>44954</th>\n",
       "      <td>89906</td>\n",
       "      <td>NaN</td>\n",
       "      <td>14-04-2020</td>\n",
       "      <td>Is it wrong that the smell of hand sanitizer i...</td>\n",
       "      <td>Neutral</td>\n",
       "    </tr>\n",
       "  </tbody>\n",
       "</table>\n",
       "<p>8590 rows × 5 columns</p>\n",
       "</div>"
      ],
      "text/plain": [
       "          ScreenName Location     TweetAt  \\\n",
       "UserName                                    \n",
       "3802           48754      NaN  16-03-2020   \n",
       "3803           48755      NaN  16-03-2020   \n",
       "3813           48765      NaN  16-03-2020   \n",
       "3821           48773      NaN  16-03-2020   \n",
       "3822           48774      NaN  16-03-2020   \n",
       "...              ...      ...         ...   \n",
       "44947          89899      NaN  14-04-2020   \n",
       "44950          89902      NaN  14-04-2020   \n",
       "44952          89904      NaN  14-04-2020   \n",
       "44953          89905      NaN  14-04-2020   \n",
       "44954          89906      NaN  14-04-2020   \n",
       "\n",
       "                                              OriginalTweet  \\\n",
       "UserName                                                      \n",
       "3802      My food stock is not the only one which is emp...   \n",
       "3803      Me, ready to go at supermarket during the #COV...   \n",
       "3813      ADARA Releases COVID-19 Resource Center for Tr...   \n",
       "3821      We have AMAZING CHEAP DEALS! FOR THE #COVID201...   \n",
       "3822      We have AMAZING CHEAP DEALS! FOR THE #COVID201...   \n",
       "...                                                     ...   \n",
       "44947     UV light Sterilizer Sanitizer for your mask an...   \n",
       "44950     @MrSilverScott you are definitely my man. I fe...   \n",
       "44952     Response to complaint not provided citing COVI...   \n",
       "44953     You know itÂs getting tough when @KameronWild...   \n",
       "44954     Is it wrong that the smell of hand sanitizer i...   \n",
       "\n",
       "                   Sentiment  \n",
       "UserName                      \n",
       "3802                Positive  \n",
       "3803      Extremely Negative  \n",
       "3813                Positive  \n",
       "3821      Extremely Positive  \n",
       "3822      Extremely Positive  \n",
       "...                      ...  \n",
       "44947     Extremely Positive  \n",
       "44950     Extremely Positive  \n",
       "44952     Extremely Negative  \n",
       "44953               Positive  \n",
       "44954                Neutral  \n",
       "\n",
       "[8590 rows x 5 columns]"
      ]
     },
     "execution_count": 6,
     "metadata": {},
     "output_type": "execute_result"
    }
   ],
   "source": [
    "data[data[\"Location\"].isna()]\n"
   ]
  },
  {
   "cell_type": "markdown",
   "id": "a08f1d78",
   "metadata": {},
   "source": [
    "La disposition des données manquantes semble aléatoire."
   ]
  },
  {
   "cell_type": "code",
   "execution_count": 7,
   "id": "52d33adb",
   "metadata": {},
   "outputs": [],
   "source": [
    "data.fillna(\"U\",inplace=True)\n"
   ]
  },
  {
   "cell_type": "code",
   "execution_count": 8,
   "id": "10a6b06b",
   "metadata": {
    "scrolled": true
   },
   "outputs": [
    {
     "data": {
      "image/png": "[encoded data removed]",
      "text/plain": [
       "<Figure size 720x360 with 1 Axes>"
      ]
     },
     "metadata": {},
     "output_type": "display_data"
    }
   ],
   "source": [
    "c=data[\"Sentiment\"].value_counts()\n",
    "plt.style.use('ggplot')\n",
    "plt.figure(figsize=(10,5))\n",
    "plt.bar(x=c.index,height=c.values,width=0.25,color=\"lightpink\")\n",
    "plt.xticks(rotation=-5)\n",
    "plt.show()"
   ]
  },
  {
   "cell_type": "markdown",
   "id": "c9a166bd",
   "metadata": {},
   "source": [
    "Il n'y a pas de désequilibre majeur entre les classes.\n",
    "\n",
    "# Impact du temps sur les classes"
   ]
  },
  {
   "cell_type": "code",
   "execution_count": 9,
   "id": "b5cac578",
   "metadata": {
    "scrolled": true
   },
   "outputs": [
    {
     "data": {
      "text/plain": [
       "TweetAt\n",
       "2020-03-31    1568188500\n",
       "2020-04-30    1285185153\n",
       "Freq: M, Name: ScreenName, dtype: int64"
      ]
     },
     "execution_count": 9,
     "metadata": {},
     "output_type": "execute_result"
    }
   ],
   "source": [
    "###### \n",
    "data_time=data.copy()\n",
    "data_time[\"TweetAt\"]=pd.to_datetime(data[\"TweetAt\"],format='%d-%m-%Y')\n",
    "#changement d'index\n",
    "data_time=data_time.set_index(\"TweetAt\")\n",
    "#data_time\n",
    "#plt.figure()\n",
    "data_time[\"ScreenName\"].resample(\"M\").agg(sum)"
   ]
  },
  {
   "cell_type": "code",
   "execution_count": 10,
   "id": "8bb2b4ef",
   "metadata": {
    "scrolled": false
   },
   "outputs": [
    {
     "name": "stderr",
     "output_type": "stream",
     "text": [
      "C:\\Users\\ranus\\anaconda3\\envs\\Tensorflow\\lib\\site-packages\\pandas\\core\\indexes\\base.py:6393: UserWarning: Parsing '31-03-2020' in DD/MM/YYYY format. Provide format or specify infer_datetime_format=True for consistent parsing.\n",
      "  label = self._maybe_cast_slice_bound(label, side)\n"
     ]
    },
    {
     "data": {
      "image/png": "[encoded data removed]",
      "text/plain": [
       "<Figure size 720x720 with 2 Axes>"
      ]
     },
     "metadata": {},
     "output_type": "display_data"
    }
   ],
   "source": [
    "df1=pd.DataFrame(data_time[\"Sentiment\"][:\"31-03-2020\"].value_counts())\n",
    "df1[\"Emotion\"]=df1.index\n",
    "df1=df1.set_index(pd.Index([i for i in range(df1.shape[0])]))\n",
    "df2=pd.DataFrame(data_time[\"Sentiment\"][\"01-04-2020\":].value_counts())\n",
    "df2[\"Emotion\"]=df2.index\n",
    "df2=df2.set_index(pd.Index([i for i in range(df2.shape[0])]))\n",
    "#df2\n",
    "#df2.drop(5,axis=0)\n",
    "\n",
    "plt.figure(figsize=(10,10))\n",
    "plt.subplot(1,2,1)\n",
    "plt.bar(df1[\"Emotion\"],df1[\"Sentiment\"])\n",
    "plt.xticks(rotation=45)\n",
    "plt.subplot(1,2,2)\n",
    "plt.bar(df2[\"Emotion\"],df2[\"Sentiment\"])\n",
    "plt.xticks(rotation=45)\n",
    "\n",
    "plt.show()"
   ]
  },
  {
   "cell_type": "markdown",
   "id": "55b36a2c",
   "metadata": {},
   "source": [
    "Le mois de publication des tweet ne semble pas avoir d'impact sur les sentiments."
   ]
  },
  {
   "cell_type": "code",
   "execution_count": 11,
   "id": "43171848",
   "metadata": {},
   "outputs": [],
   "source": [
    "#sw_nltk=stopwords.words('english')"
   ]
  },
  {
   "cell_type": "code",
   "execution_count": 12,
   "id": "1b460dab",
   "metadata": {},
   "outputs": [
    {
     "data": {
      "text/html": [
       "<div>\n",
       "<style scoped>\n",
       "    .dataframe tbody tr th:only-of-type {\n",
       "        vertical-align: middle;\n",
       "    }\n",
       "\n",
       "    .dataframe tbody tr th {\n",
       "        vertical-align: top;\n",
       "    }\n",
       "\n",
       "    .dataframe thead th {\n",
       "        text-align: right;\n",
       "    }\n",
       "</style>\n",
       "<table border=\"1\" class=\"dataframe\">\n",
       "  <thead>\n",
       "    <tr style=\"text-align: right;\">\n",
       "      <th></th>\n",
       "      <th>ScreenName</th>\n",
       "      <th>Location</th>\n",
       "      <th>TweetAt</th>\n",
       "      <th>OriginalTweet</th>\n",
       "    </tr>\n",
       "    <tr>\n",
       "      <th>UserName</th>\n",
       "      <th></th>\n",
       "      <th></th>\n",
       "      <th></th>\n",
       "      <th></th>\n",
       "    </tr>\n",
       "  </thead>\n",
       "  <tbody>\n",
       "    <tr>\n",
       "      <th>3799</th>\n",
       "      <td>48751</td>\n",
       "      <td>London</td>\n",
       "      <td>16-03-2020</td>\n",
       "      <td>@MeNyrbie @Phil_Gahan @Chrisitv https://t.co/i...</td>\n",
       "    </tr>\n",
       "    <tr>\n",
       "      <th>3800</th>\n",
       "      <td>48752</td>\n",
       "      <td>UK</td>\n",
       "      <td>16-03-2020</td>\n",
       "      <td>advice Talk to your neighbours family to excha...</td>\n",
       "    </tr>\n",
       "    <tr>\n",
       "      <th>3801</th>\n",
       "      <td>48753</td>\n",
       "      <td>Vagabonds</td>\n",
       "      <td>16-03-2020</td>\n",
       "      <td>Coronavirus Australia: Woolworths to give elde...</td>\n",
       "    </tr>\n",
       "    <tr>\n",
       "      <th>3802</th>\n",
       "      <td>48754</td>\n",
       "      <td>U</td>\n",
       "      <td>16-03-2020</td>\n",
       "      <td>My food stock is not the only one which is emp...</td>\n",
       "    </tr>\n",
       "    <tr>\n",
       "      <th>3803</th>\n",
       "      <td>48755</td>\n",
       "      <td>U</td>\n",
       "      <td>16-03-2020</td>\n",
       "      <td>Me, ready to go at supermarket during the #COV...</td>\n",
       "    </tr>\n",
       "    <tr>\n",
       "      <th>...</th>\n",
       "      <td>...</td>\n",
       "      <td>...</td>\n",
       "      <td>...</td>\n",
       "      <td>...</td>\n",
       "    </tr>\n",
       "    <tr>\n",
       "      <th>44951</th>\n",
       "      <td>89903</td>\n",
       "      <td>Wellington City, New Zealand</td>\n",
       "      <td>14-04-2020</td>\n",
       "      <td>Airline pilots offering to stock supermarket s...</td>\n",
       "    </tr>\n",
       "    <tr>\n",
       "      <th>44952</th>\n",
       "      <td>89904</td>\n",
       "      <td>U</td>\n",
       "      <td>14-04-2020</td>\n",
       "      <td>Response to complaint not provided citing COVI...</td>\n",
       "    </tr>\n",
       "    <tr>\n",
       "      <th>44953</th>\n",
       "      <td>89905</td>\n",
       "      <td>U</td>\n",
       "      <td>14-04-2020</td>\n",
       "      <td>You know itÂs getting tough when @KameronWild...</td>\n",
       "    </tr>\n",
       "    <tr>\n",
       "      <th>44954</th>\n",
       "      <td>89906</td>\n",
       "      <td>U</td>\n",
       "      <td>14-04-2020</td>\n",
       "      <td>Is it wrong that the smell of hand sanitizer i...</td>\n",
       "    </tr>\n",
       "    <tr>\n",
       "      <th>44955</th>\n",
       "      <td>89907</td>\n",
       "      <td>i love you so much || he/him</td>\n",
       "      <td>14-04-2020</td>\n",
       "      <td>@TartiiCat Well new/used Rift S are going for ...</td>\n",
       "    </tr>\n",
       "  </tbody>\n",
       "</table>\n",
       "<p>41157 rows × 4 columns</p>\n",
       "</div>"
      ],
      "text/plain": [
       "          ScreenName                      Location     TweetAt  \\\n",
       "UserName                                                         \n",
       "3799           48751                        London  16-03-2020   \n",
       "3800           48752                            UK  16-03-2020   \n",
       "3801           48753                     Vagabonds  16-03-2020   \n",
       "3802           48754                             U  16-03-2020   \n",
       "3803           48755                             U  16-03-2020   \n",
       "...              ...                           ...         ...   \n",
       "44951          89903  Wellington City, New Zealand  14-04-2020   \n",
       "44952          89904                             U  14-04-2020   \n",
       "44953          89905                             U  14-04-2020   \n",
       "44954          89906                             U  14-04-2020   \n",
       "44955          89907  i love you so much || he/him  14-04-2020   \n",
       "\n",
       "                                              OriginalTweet  \n",
       "UserName                                                     \n",
       "3799      @MeNyrbie @Phil_Gahan @Chrisitv https://t.co/i...  \n",
       "3800      advice Talk to your neighbours family to excha...  \n",
       "3801      Coronavirus Australia: Woolworths to give elde...  \n",
       "3802      My food stock is not the only one which is emp...  \n",
       "3803      Me, ready to go at supermarket during the #COV...  \n",
       "...                                                     ...  \n",
       "44951     Airline pilots offering to stock supermarket s...  \n",
       "44952     Response to complaint not provided citing COVI...  \n",
       "44953     You know itÂs getting tough when @KameronWild...  \n",
       "44954     Is it wrong that the smell of hand sanitizer i...  \n",
       "44955     @TartiiCat Well new/used Rift S are going for ...  \n",
       "\n",
       "[41157 rows x 4 columns]"
      ]
     },
     "execution_count": 12,
     "metadata": {},
     "output_type": "execute_result"
    }
   ],
   "source": [
    "target=data[\"Sentiment\"]\n",
    "data=data.drop(\"Sentiment\",axis=1)\n",
    "data\n"
   ]
  },
  {
   "cell_type": "code",
   "execution_count": 13,
   "id": "2ff4bca3",
   "metadata": {},
   "outputs": [],
   "source": [
    "\n",
    "#encodage de la variable cible\n",
    "encoder=LabelEncoder()\n",
    "target=pd.DataFrame(encoder.fit_transform(target))\n",
    "\n"
   ]
  },
  {
   "cell_type": "code",
   "execution_count": 14,
   "id": "ac647dfe",
   "metadata": {
    "scrolled": true
   },
   "outputs": [
    {
     "data": {
      "text/plain": [
       "216.53320050239563"
      ]
     },
     "execution_count": 14,
     "metadata": {},
     "output_type": "execute_result"
    }
   ],
   "source": [
    "t=time.time()\n",
    "def traitement1(char):\n",
    "    char = re.sub(\"'\", \"\", char) # to avoid removing contractions in english\n",
    "    char = re.sub(\"@[A-Za-z0-9_]+\",\"\", char)\n",
    "    char = re.sub(\"#[A-Za-z0-9_]+\",\"\", char)\n",
    "    char = re.sub(r'http\\S+', '', char)\n",
    "    char = re.sub('[()!?]', ' ', char)\n",
    "    char = re.sub('\\[.*?\\]',' ', char)\n",
    "    char = re.sub(\"[^a-z0-9]\",\" \", char)\n",
    "    return char\n",
    "def traitement2(liste):\n",
    "    n=len(liste)\n",
    "    \n",
    "    #on definie un liste avec des caractère et des ponctuation\n",
    "    car=[\"@\",\"#\",\".\",\"?\",\"!\",\"...\",\":\"]\n",
    "    l=[]\n",
    "    for i in range(n):\n",
    "        liste[i]=liste[i].lower()\n",
    "   \n",
    "    #On retire les éléments présent dans la liste car\n",
    "    l=[word for word in liste if word not in car]\n",
    "    \n",
    "    #filtration des stop words\n",
    "    liste1=list(filter(lambda word: word not in stopwords.words(\"english\"),l))\n",
    "    \n",
    "    #stemmatisation\n",
    "    #stemmer=nltk.stem.SnowballStemmer('english')\n",
    "    #liste2=[stemmer.stem(word) for word in liste1]\n",
    "    \n",
    "    #lemmatisation\n",
    "    lemmatizer=nltk.stem.WordNetLemmatizer()\n",
    "    liste3=[lemmatizer.lemmatize(word) for word in liste1]\n",
    "    \n",
    "    return liste3\n",
    "        \n",
    "\n",
    "\n",
    "#nltk.download('punkt')\n",
    "#n=data.shape[0]\n",
    "#for i in range(n):\n",
    "#   token=nltk.word_tokenize(data.iloc[i,2])\n",
    "data[\"OriginalTweet\"]=data['OriginalTweet'].apply(traitement1)\n",
    "#data\n",
    "data[\"OriginalTweet\"]=data['OriginalTweet'].apply(nltk.word_tokenize)\n",
    "#data\n",
    "# convertie les majuscule en minuscule\n",
    "data[\"OriginalTweet\"]=data[\"OriginalTweet\"].apply(traitement2)\n",
    "time.time()-t\n",
    "\n",
    "\n"
   ]
  },
  {
   "cell_type": "code",
   "execution_count": 15,
   "id": "84c1a245",
   "metadata": {
    "scrolled": true
   },
   "outputs": [
    {
     "data": {
      "text/html": [
       "<div>\n",
       "<style scoped>\n",
       "    .dataframe tbody tr th:only-of-type {\n",
       "        vertical-align: middle;\n",
       "    }\n",
       "\n",
       "    .dataframe tbody tr th {\n",
       "        vertical-align: top;\n",
       "    }\n",
       "\n",
       "    .dataframe thead th {\n",
       "        text-align: right;\n",
       "    }\n",
       "</style>\n",
       "<table border=\"1\" class=\"dataframe\">\n",
       "  <thead>\n",
       "    <tr style=\"text-align: right;\">\n",
       "      <th></th>\n",
       "      <th>ScreenName</th>\n",
       "      <th>Location</th>\n",
       "      <th>TweetAt</th>\n",
       "      <th>OriginalTweet</th>\n",
       "    </tr>\n",
       "    <tr>\n",
       "      <th>UserName</th>\n",
       "      <th></th>\n",
       "      <th></th>\n",
       "      <th></th>\n",
       "      <th></th>\n",
       "    </tr>\n",
       "  </thead>\n",
       "  <tbody>\n",
       "    <tr>\n",
       "      <th>3799</th>\n",
       "      <td>48751</td>\n",
       "      <td>London</td>\n",
       "      <td>16-03-2020</td>\n",
       "      <td>[]</td>\n",
       "    </tr>\n",
       "    <tr>\n",
       "      <th>3800</th>\n",
       "      <td>48752</td>\n",
       "      <td>UK</td>\n",
       "      <td>16-03-2020</td>\n",
       "      <td>[advice, alk, neighbour, family, exchange, pho...</td>\n",
       "    </tr>\n",
       "    <tr>\n",
       "      <th>3801</th>\n",
       "      <td>48753</td>\n",
       "      <td>Vagabonds</td>\n",
       "      <td>16-03-2020</td>\n",
       "      <td>[oronavirus, ustralia, oolworths, give, elderl...</td>\n",
       "    </tr>\n",
       "    <tr>\n",
       "      <th>3802</th>\n",
       "      <td>48754</td>\n",
       "      <td>U</td>\n",
       "      <td>16-03-2020</td>\n",
       "      <td>[food, stock, one, empty, dont, panic, take, n...</td>\n",
       "    </tr>\n",
       "    <tr>\n",
       "      <th>3803</th>\n",
       "      <td>48755</td>\n",
       "      <td>U</td>\n",
       "      <td>16-03-2020</td>\n",
       "      <td>[e, ready, go, supermarket, outbreak, ot, para...</td>\n",
       "    </tr>\n",
       "    <tr>\n",
       "      <th>...</th>\n",
       "      <td>...</td>\n",
       "      <td>...</td>\n",
       "      <td>...</td>\n",
       "      <td>...</td>\n",
       "    </tr>\n",
       "    <tr>\n",
       "      <th>44951</th>\n",
       "      <td>89903</td>\n",
       "      <td>Wellington City, New Zealand</td>\n",
       "      <td>14-04-2020</td>\n",
       "      <td>[irline, pilot, offering, stock, supermarket, ...</td>\n",
       "    </tr>\n",
       "    <tr>\n",
       "      <th>44952</th>\n",
       "      <td>89904</td>\n",
       "      <td>U</td>\n",
       "      <td>14-04-2020</td>\n",
       "      <td>[esponse, complaint, provided, citing, 19, rel...</td>\n",
       "    </tr>\n",
       "    <tr>\n",
       "      <th>44953</th>\n",
       "      <td>89905</td>\n",
       "      <td>U</td>\n",
       "      <td>14-04-2020</td>\n",
       "      <td>[ou, know, getting, tough, rationing, toilet, ...</td>\n",
       "    </tr>\n",
       "    <tr>\n",
       "      <th>44954</th>\n",
       "      <td>89906</td>\n",
       "      <td>U</td>\n",
       "      <td>14-04-2020</td>\n",
       "      <td>[wrong, smell, hand, sanitizer, starting, turn]</td>\n",
       "    </tr>\n",
       "    <tr>\n",
       "      <th>44955</th>\n",
       "      <td>89907</td>\n",
       "      <td>i love you so much || he/him</td>\n",
       "      <td>14-04-2020</td>\n",
       "      <td>[ell, new, used, ift, going, 700, 00, mazon, r...</td>\n",
       "    </tr>\n",
       "  </tbody>\n",
       "</table>\n",
       "<p>41157 rows × 4 columns</p>\n",
       "</div>"
      ],
      "text/plain": [
       "          ScreenName                      Location     TweetAt  \\\n",
       "UserName                                                         \n",
       "3799           48751                        London  16-03-2020   \n",
       "3800           48752                            UK  16-03-2020   \n",
       "3801           48753                     Vagabonds  16-03-2020   \n",
       "3802           48754                             U  16-03-2020   \n",
       "3803           48755                             U  16-03-2020   \n",
       "...              ...                           ...         ...   \n",
       "44951          89903  Wellington City, New Zealand  14-04-2020   \n",
       "44952          89904                             U  14-04-2020   \n",
       "44953          89905                             U  14-04-2020   \n",
       "44954          89906                             U  14-04-2020   \n",
       "44955          89907  i love you so much || he/him  14-04-2020   \n",
       "\n",
       "                                              OriginalTweet  \n",
       "UserName                                                     \n",
       "3799                                                     []  \n",
       "3800      [advice, alk, neighbour, family, exchange, pho...  \n",
       "3801      [oronavirus, ustralia, oolworths, give, elderl...  \n",
       "3802      [food, stock, one, empty, dont, panic, take, n...  \n",
       "3803      [e, ready, go, supermarket, outbreak, ot, para...  \n",
       "...                                                     ...  \n",
       "44951     [irline, pilot, offering, stock, supermarket, ...  \n",
       "44952     [esponse, complaint, provided, citing, 19, rel...  \n",
       "44953     [ou, know, getting, tough, rationing, toilet, ...  \n",
       "44954       [wrong, smell, hand, sanitizer, starting, turn]  \n",
       "44955     [ell, new, used, ift, going, 700, 00, mazon, r...  \n",
       "\n",
       "[41157 rows x 4 columns]"
      ]
     },
     "execution_count": 15,
     "metadata": {},
     "output_type": "execute_result"
    }
   ],
   "source": [
    "data"
   ]
  },
  {
   "cell_type": "markdown",
   "id": "dc80ac60",
   "metadata": {},
   "source": [
    "Nous devons désormais encoder Location et OriginalTweet. Comme les categories des deux variables n'ont pas plus de poids nous utiliserons un encodage du type OneHotEncoder."
   ]
  },
  {
   "cell_type": "code",
   "execution_count": 16,
   "id": "91d913b3",
   "metadata": {},
   "outputs": [],
   "source": [
    "#cat = keras.utils.to_categorical()"
   ]
  },
  {
   "cell_type": "code",
   "execution_count": 17,
   "id": "52427644",
   "metadata": {
    "scrolled": true
   },
   "outputs": [],
   "source": []
  },
  {
   "cell_type": "code",
   "execution_count": 18,
   "id": "895decac",
   "metadata": {},
   "outputs": [],
   "source": []
  },
  {
   "cell_type": "code",
   "execution_count": 19,
   "id": "22ba9df8",
   "metadata": {
    "scrolled": false
   },
   "outputs": [],
   "source": [
    "from sklearn.preprocessing import OneHotEncoder\n",
    "from sklearn.feature_extraction.text import CountVectorizer\n",
    "#enc=tf.keras.utils.to_categorical\n",
    "#ohe=OneHotEncoder()\n",
    "#count_v=CountVectorizer()\n",
    "#t=pd.DataFrame({\"token\":[[\"Je\",'Mange'],[\"des\",\"gateaux\",\"chocolat\"]]})\n",
    "#n=t.shape[0]\n",
    "#liste_mots=[]\n",
    "#for i in range(n):\n",
    " #   liste_num=[]\n",
    "  #  for word in t[\"token\"][i]:\n",
    "   #     if word not in liste_mots:\n",
    "    #        liste_mots.append(word)\n",
    "     #       liste_num.append(liste_mots.index(word))\n",
    "      #  elif word in liste_mots:\n",
    "       #     liste_num.append(liste_mots.index(word))\n",
    "        #t[\"token\"][i]=liste_num\n",
    "#tf.keras.utils.to_categorical(t)     \n",
    "            "
   ]
  },
  {
   "cell_type": "code",
   "execution_count": 24,
   "id": "5587c4f5",
   "metadata": {
    "scrolled": false
   },
   "outputs": [
    {
     "ename": "ValueError",
     "evalue": "Too large work array required -- computation cannot be performed with standard 32-bit LAPACK.",
     "output_type": "error",
     "traceback": [
      "\u001b[1;31m---------------------------------------------------------------------------\u001b[0m",
      "\u001b[1;31mValueError\u001b[0m                                Traceback (most recent call last)",
      "Input \u001b[1;32mIn [24]\u001b[0m, in \u001b[0;36m<cell line: 6>\u001b[1;34m()\u001b[0m\n\u001b[0;32m      4\u001b[0m df\u001b[38;5;241m=\u001b[39mpd\u001b[38;5;241m.\u001b[39mDataFrame(mlb\u001b[38;5;241m.\u001b[39mfit_transform(data[\u001b[38;5;124m\"\u001b[39m\u001b[38;5;124mOriginalTweet\u001b[39m\u001b[38;5;124m\"\u001b[39m])) \u001b[38;5;66;03m# donne une dataframe de dimension 41152 x 33720\u001b[39;00m\n\u001b[0;32m      5\u001b[0m acp\u001b[38;5;241m=\u001b[39mPCA()\n\u001b[1;32m----> 6\u001b[0m result\u001b[38;5;241m=\u001b[39m\u001b[43macp\u001b[49m\u001b[38;5;241;43m.\u001b[39;49m\u001b[43mfit_transform\u001b[49m\u001b[43m(\u001b[49m\u001b[43mdf\u001b[49m\u001b[43m)\u001b[49m\n\u001b[0;32m      7\u001b[0m col_name\u001b[38;5;241m=\u001b[39m[\u001b[38;5;124m'\u001b[39m\u001b[38;5;124mPC\u001b[39m\u001b[38;5;124m'\u001b[39m \u001b[38;5;241m+\u001b[39m\u001b[38;5;28mstr\u001b[39m(j) \u001b[38;5;28;01mfor\u001b[39;00m j \u001b[38;5;129;01min\u001b[39;00m \u001b[38;5;28mrange\u001b[39m(result\u001b[38;5;241m.\u001b[39mshape[\u001b[38;5;241m1\u001b[39m])]\n\u001b[0;32m      8\u001b[0m result2\u001b[38;5;241m=\u001b[39mpd\u001b[38;5;241m.\u001b[39mDataFrame(result,columns\u001b[38;5;241m=\u001b[39mcol_name)\n",
      "File \u001b[1;32m~\\anaconda3\\envs\\Tensorflow\\lib\\site-packages\\sklearn\\decomposition\\_pca.py:407\u001b[0m, in \u001b[0;36mPCA.fit_transform\u001b[1;34m(self, X, y)\u001b[0m\n\u001b[0;32m    385\u001b[0m \u001b[38;5;28;01mdef\u001b[39;00m \u001b[38;5;21mfit_transform\u001b[39m(\u001b[38;5;28mself\u001b[39m, X, y\u001b[38;5;241m=\u001b[39m\u001b[38;5;28;01mNone\u001b[39;00m):\n\u001b[0;32m    386\u001b[0m     \u001b[38;5;124;03m\"\"\"Fit the model with X and apply the dimensionality reduction on X.\u001b[39;00m\n\u001b[0;32m    387\u001b[0m \n\u001b[0;32m    388\u001b[0m \u001b[38;5;124;03m    Parameters\u001b[39;00m\n\u001b[1;32m   (...)\u001b[0m\n\u001b[0;32m    405\u001b[0m \u001b[38;5;124;03m    C-ordered array, use 'np.ascontiguousarray'.\u001b[39;00m\n\u001b[0;32m    406\u001b[0m \u001b[38;5;124;03m    \"\"\"\u001b[39;00m\n\u001b[1;32m--> 407\u001b[0m     U, S, Vt \u001b[38;5;241m=\u001b[39m \u001b[38;5;28;43mself\u001b[39;49m\u001b[38;5;241;43m.\u001b[39;49m\u001b[43m_fit\u001b[49m\u001b[43m(\u001b[49m\u001b[43mX\u001b[49m\u001b[43m)\u001b[49m\n\u001b[0;32m    408\u001b[0m     U \u001b[38;5;241m=\u001b[39m U[:, : \u001b[38;5;28mself\u001b[39m\u001b[38;5;241m.\u001b[39mn_components_]\n\u001b[0;32m    410\u001b[0m     \u001b[38;5;28;01mif\u001b[39;00m \u001b[38;5;28mself\u001b[39m\u001b[38;5;241m.\u001b[39mwhiten:\n\u001b[0;32m    411\u001b[0m         \u001b[38;5;66;03m# X_new = X * V / S * sqrt(n_samples) = U * sqrt(n_samples)\u001b[39;00m\n",
      "File \u001b[1;32m~\\anaconda3\\envs\\Tensorflow\\lib\\site-packages\\sklearn\\decomposition\\_pca.py:457\u001b[0m, in \u001b[0;36mPCA._fit\u001b[1;34m(self, X)\u001b[0m\n\u001b[0;32m    455\u001b[0m \u001b[38;5;66;03m# Call different fits for either full or truncated SVD\u001b[39;00m\n\u001b[0;32m    456\u001b[0m \u001b[38;5;28;01mif\u001b[39;00m \u001b[38;5;28mself\u001b[39m\u001b[38;5;241m.\u001b[39m_fit_svd_solver \u001b[38;5;241m==\u001b[39m \u001b[38;5;124m\"\u001b[39m\u001b[38;5;124mfull\u001b[39m\u001b[38;5;124m\"\u001b[39m:\n\u001b[1;32m--> 457\u001b[0m     \u001b[38;5;28;01mreturn\u001b[39;00m \u001b[38;5;28;43mself\u001b[39;49m\u001b[38;5;241;43m.\u001b[39;49m\u001b[43m_fit_full\u001b[49m\u001b[43m(\u001b[49m\u001b[43mX\u001b[49m\u001b[43m,\u001b[49m\u001b[43m \u001b[49m\u001b[43mn_components\u001b[49m\u001b[43m)\u001b[49m\n\u001b[0;32m    458\u001b[0m \u001b[38;5;28;01melif\u001b[39;00m \u001b[38;5;28mself\u001b[39m\u001b[38;5;241m.\u001b[39m_fit_svd_solver \u001b[38;5;129;01min\u001b[39;00m [\u001b[38;5;124m\"\u001b[39m\u001b[38;5;124marpack\u001b[39m\u001b[38;5;124m\"\u001b[39m, \u001b[38;5;124m\"\u001b[39m\u001b[38;5;124mrandomized\u001b[39m\u001b[38;5;124m\"\u001b[39m]:\n\u001b[0;32m    459\u001b[0m     \u001b[38;5;28;01mreturn\u001b[39;00m \u001b[38;5;28mself\u001b[39m\u001b[38;5;241m.\u001b[39m_fit_truncated(X, n_components, \u001b[38;5;28mself\u001b[39m\u001b[38;5;241m.\u001b[39m_fit_svd_solver)\n",
      "File \u001b[1;32m~\\anaconda3\\envs\\Tensorflow\\lib\\site-packages\\sklearn\\decomposition\\_pca.py:492\u001b[0m, in \u001b[0;36mPCA._fit_full\u001b[1;34m(self, X, n_components)\u001b[0m\n\u001b[0;32m    489\u001b[0m \u001b[38;5;28mself\u001b[39m\u001b[38;5;241m.\u001b[39mmean_ \u001b[38;5;241m=\u001b[39m np\u001b[38;5;241m.\u001b[39mmean(X, axis\u001b[38;5;241m=\u001b[39m\u001b[38;5;241m0\u001b[39m)\n\u001b[0;32m    490\u001b[0m X \u001b[38;5;241m-\u001b[39m\u001b[38;5;241m=\u001b[39m \u001b[38;5;28mself\u001b[39m\u001b[38;5;241m.\u001b[39mmean_\n\u001b[1;32m--> 492\u001b[0m U, S, Vt \u001b[38;5;241m=\u001b[39m \u001b[43mlinalg\u001b[49m\u001b[38;5;241;43m.\u001b[39;49m\u001b[43msvd\u001b[49m\u001b[43m(\u001b[49m\u001b[43mX\u001b[49m\u001b[43m,\u001b[49m\u001b[43m \u001b[49m\u001b[43mfull_matrices\u001b[49m\u001b[38;5;241;43m=\u001b[39;49m\u001b[38;5;28;43;01mFalse\u001b[39;49;00m\u001b[43m)\u001b[49m\n\u001b[0;32m    493\u001b[0m \u001b[38;5;66;03m# flip eigenvectors' sign to enforce deterministic output\u001b[39;00m\n\u001b[0;32m    494\u001b[0m U, Vt \u001b[38;5;241m=\u001b[39m svd_flip(U, Vt)\n",
      "File \u001b[1;32m~\\anaconda3\\envs\\Tensorflow\\lib\\site-packages\\scipy\\linalg\\_decomp_svd.py:123\u001b[0m, in \u001b[0;36msvd\u001b[1;34m(a, full_matrices, compute_uv, overwrite_a, check_finite, lapack_driver)\u001b[0m\n\u001b[0;32m    120\u001b[0m gesXd, gesXd_lwork \u001b[38;5;241m=\u001b[39m get_lapack_funcs(funcs, (a1,), ilp64\u001b[38;5;241m=\u001b[39m\u001b[38;5;124m'\u001b[39m\u001b[38;5;124mpreferred\u001b[39m\u001b[38;5;124m'\u001b[39m)\n\u001b[0;32m    122\u001b[0m \u001b[38;5;66;03m# compute optimal lwork\u001b[39;00m\n\u001b[1;32m--> 123\u001b[0m lwork \u001b[38;5;241m=\u001b[39m \u001b[43m_compute_lwork\u001b[49m\u001b[43m(\u001b[49m\u001b[43mgesXd_lwork\u001b[49m\u001b[43m,\u001b[49m\u001b[43m \u001b[49m\u001b[43ma1\u001b[49m\u001b[38;5;241;43m.\u001b[39;49m\u001b[43mshape\u001b[49m\u001b[43m[\u001b[49m\u001b[38;5;241;43m0\u001b[39;49m\u001b[43m]\u001b[49m\u001b[43m,\u001b[49m\u001b[43m \u001b[49m\u001b[43ma1\u001b[49m\u001b[38;5;241;43m.\u001b[39;49m\u001b[43mshape\u001b[49m\u001b[43m[\u001b[49m\u001b[38;5;241;43m1\u001b[39;49m\u001b[43m]\u001b[49m\u001b[43m,\u001b[49m\n\u001b[0;32m    124\u001b[0m \u001b[43m                       \u001b[49m\u001b[43mcompute_uv\u001b[49m\u001b[38;5;241;43m=\u001b[39;49m\u001b[43mcompute_uv\u001b[49m\u001b[43m,\u001b[49m\u001b[43m \u001b[49m\u001b[43mfull_matrices\u001b[49m\u001b[38;5;241;43m=\u001b[39;49m\u001b[43mfull_matrices\u001b[49m\u001b[43m)\u001b[49m\n\u001b[0;32m    126\u001b[0m \u001b[38;5;66;03m# perform decomposition\u001b[39;00m\n\u001b[0;32m    127\u001b[0m u, s, v, info \u001b[38;5;241m=\u001b[39m gesXd(a1, compute_uv\u001b[38;5;241m=\u001b[39mcompute_uv, lwork\u001b[38;5;241m=\u001b[39mlwork,\n\u001b[0;32m    128\u001b[0m                       full_matrices\u001b[38;5;241m=\u001b[39mfull_matrices, overwrite_a\u001b[38;5;241m=\u001b[39moverwrite_a)\n",
      "File \u001b[1;32m~\\anaconda3\\envs\\Tensorflow\\lib\\site-packages\\scipy\\linalg\\lapack.py:997\u001b[0m, in \u001b[0;36m_compute_lwork\u001b[1;34m(routine, *args, **kwargs)\u001b[0m\n\u001b[0;32m    993\u001b[0m     \u001b[38;5;28;01mraise\u001b[39;00m \u001b[38;5;167;01mValueError\u001b[39;00m(\u001b[38;5;124m\"\u001b[39m\u001b[38;5;124mInternal work array size computation failed: \u001b[39m\u001b[38;5;124m\"\u001b[39m\n\u001b[0;32m    994\u001b[0m                      \u001b[38;5;124m\"\u001b[39m\u001b[38;5;132;01m%d\u001b[39;00m\u001b[38;5;124m\"\u001b[39m \u001b[38;5;241m%\u001b[39m (ret[\u001b[38;5;241m-\u001b[39m\u001b[38;5;241m1\u001b[39m],))\n\u001b[0;32m    996\u001b[0m \u001b[38;5;28;01mif\u001b[39;00m \u001b[38;5;28mlen\u001b[39m(ret) \u001b[38;5;241m==\u001b[39m \u001b[38;5;241m2\u001b[39m:\n\u001b[1;32m--> 997\u001b[0m     \u001b[38;5;28;01mreturn\u001b[39;00m \u001b[43m_check_work_float\u001b[49m\u001b[43m(\u001b[49m\u001b[43mret\u001b[49m\u001b[43m[\u001b[49m\u001b[38;5;241;43m0\u001b[39;49m\u001b[43m]\u001b[49m\u001b[38;5;241;43m.\u001b[39;49m\u001b[43mreal\u001b[49m\u001b[43m,\u001b[49m\u001b[43m \u001b[49m\u001b[43mdtype\u001b[49m\u001b[43m,\u001b[49m\u001b[43m \u001b[49m\u001b[43mint_dtype\u001b[49m\u001b[43m)\u001b[49m\n\u001b[0;32m    998\u001b[0m \u001b[38;5;28;01melse\u001b[39;00m:\n\u001b[0;32m    999\u001b[0m     \u001b[38;5;28;01mreturn\u001b[39;00m \u001b[38;5;28mtuple\u001b[39m(_check_work_float(x\u001b[38;5;241m.\u001b[39mreal, dtype, int_dtype)\n\u001b[0;32m   1000\u001b[0m                  \u001b[38;5;28;01mfor\u001b[39;00m x \u001b[38;5;129;01min\u001b[39;00m ret[:\u001b[38;5;241m-\u001b[39m\u001b[38;5;241m1\u001b[39m])\n",
      "File \u001b[1;32m~\\anaconda3\\envs\\Tensorflow\\lib\\site-packages\\scipy\\linalg\\lapack.py:1017\u001b[0m, in \u001b[0;36m_check_work_float\u001b[1;34m(value, dtype, int_dtype)\u001b[0m\n\u001b[0;32m   1015\u001b[0m \u001b[38;5;28;01mif\u001b[39;00m int_dtype\u001b[38;5;241m.\u001b[39mitemsize \u001b[38;5;241m==\u001b[39m \u001b[38;5;241m4\u001b[39m:\n\u001b[0;32m   1016\u001b[0m     \u001b[38;5;28;01mif\u001b[39;00m value \u001b[38;5;241m<\u001b[39m \u001b[38;5;241m0\u001b[39m \u001b[38;5;129;01mor\u001b[39;00m value \u001b[38;5;241m>\u001b[39m _int32_max:\n\u001b[1;32m-> 1017\u001b[0m         \u001b[38;5;28;01mraise\u001b[39;00m \u001b[38;5;167;01mValueError\u001b[39;00m(\u001b[38;5;124m\"\u001b[39m\u001b[38;5;124mToo large work array required -- computation \u001b[39m\u001b[38;5;124m\"\u001b[39m\n\u001b[0;32m   1018\u001b[0m                          \u001b[38;5;124m\"\u001b[39m\u001b[38;5;124mcannot be performed with standard 32-bit\u001b[39m\u001b[38;5;124m\"\u001b[39m\n\u001b[0;32m   1019\u001b[0m                          \u001b[38;5;124m\"\u001b[39m\u001b[38;5;124m LAPACK.\u001b[39m\u001b[38;5;124m\"\u001b[39m)\n\u001b[0;32m   1020\u001b[0m \u001b[38;5;28;01melif\u001b[39;00m int_dtype\u001b[38;5;241m.\u001b[39mitemsize \u001b[38;5;241m==\u001b[39m \u001b[38;5;241m8\u001b[39m:\n\u001b[0;32m   1021\u001b[0m     \u001b[38;5;28;01mif\u001b[39;00m value \u001b[38;5;241m<\u001b[39m \u001b[38;5;241m0\u001b[39m \u001b[38;5;129;01mor\u001b[39;00m value \u001b[38;5;241m>\u001b[39m _int64_max:\n",
      "\u001b[1;31mValueError\u001b[0m: Too large work array required -- computation cannot be performed with standard 32-bit LAPACK."
     ]
    }
   ],
   "source": [
    "##### from sklearn.preprocessing import MultiLabelBinarizer\n",
    "\n",
    "mlb = MultiLabelBinarizer()\n",
    "df=pd.DataFrame(mlb.fit_transform(data[\"OriginalTweet\"])) # donne une dataframe de dimension 41152 x 33720\n",
    "acp=PCA()\n",
    "result=acp.fit_transform(df)\n",
    "col_name=['PC' +str(j) for j in range(result.shape[1])]\n",
    "result2=pd.DataFrame(result,columns=col_name)\n",
    "result2\n",
    "\n",
    "\n",
    "#l=[[1,2,3],[1,4,5]]\n",
    "#for i in range(len(l)):\n",
    " #   print(pd.get_dummies(l[i]))"
   ]
  },
  {
   "cell_type": "markdown",
   "id": "fa3d38bb",
   "metadata": {},
   "source": [
    "Nous allons choisir les composante principaux à garder en fonction de la variance qu'elles expliquent. Nous allons fxer le seuil à 80%"
   ]
  },
  {
   "cell_type": "code",
   "execution_count": null,
   "id": "07c07b6a",
   "metadata": {},
   "outputs": [],
   "source": [
    "evr=[np.cumsum(acp.explained_variance_ratio_)>0.8].value_counts()\n"
   ]
  },
  {
   "cell_type": "code",
   "execution_count": null,
   "id": "0f24c400",
   "metadata": {},
   "outputs": [],
   "source": [
    "data.drop(\"OriginalTweet\",axis=1)\n",
    "data=data.merge(data,df,axis=1)\n",
    "data"
   ]
  },
  {
   "cell_type": "code",
   "execution_count": null,
   "id": "5b1315ed",
   "metadata": {},
   "outputs": [],
   "source": [
    "data_train,data_test,target_train,target_test=train_test_split(data,target,test_size=0.2)\n"
   ]
  },
  {
   "cell_type": "code",
   "execution_count": null,
   "id": "a4991d37",
   "metadata": {},
   "outputs": [],
   "source": [
    "param_grid={\"max_depth\":[2,3],\"min_samples_leaf\":[1,2,3]}\n",
    "cv = KFold(n_splits=3)\n",
    "rf=RandomForestClassifier()"
   ]
  },
  {
   "cell_type": "code",
   "execution_count": null,
   "id": "3fa53ea2",
   "metadata": {},
   "outputs": [],
   "source": []
  }
 ],
 "metadata": {
  "kernelspec": {
   "display_name": "Python 3 (ipykernel)",
   "language": "python",
   "name": "python3"
  },
  "language_info": {
   "codemirror_mode": {
    "name": "ipython",
    "version": 3
   },
   "file_extension": ".py",
   "mimetype": "text/x-python",
   "name": "python",
   "nbconvert_exporter": "python",
   "pygments_lexer": "ipython3",
   "version": "3.9.12"
  }
 },
 "nbformat": 4,
 "nbformat_minor": 5
}
